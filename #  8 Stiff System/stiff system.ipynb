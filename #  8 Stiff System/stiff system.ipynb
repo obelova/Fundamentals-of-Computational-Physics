{
 "cells": [
  {
   "cell_type": "code",
   "execution_count": 1,
   "metadata": {},
   "outputs": [],
   "source": [
    "import numpy as np\n",
    "from pylab import *\n",
    "from matplotlib import pyplot as plt"
   ]
  },
  {
   "cell_type": "code",
   "execution_count": 2,
   "metadata": {},
   "outputs": [],
   "source": [
    "du_dt = lambda u, v:  998 * u + 1998 * v\n",
    "dv_dt = lambda u, v: -999 * u - 1999 * v\n",
    "f = lambda u, v: np.array([du_dt(u, v), dv_dt(u, v)]) # двумерная функция двух переменных"
   ]
  },
  {
   "cell_type": "code",
   "execution_count": 3,
   "metadata": {},
   "outputs": [],
   "source": [
    "def explicit_euler(r0, N, h):\n",
    "    # input : r0 = [x_0, y_0] - начальные условия\n",
    "    #         N - кол-во отсчетов по времени\n",
    "    #         h - шаг по времени\n",
    "    r = [r0]\n",
    "    for i in range(N):\n",
    "        last = r[-1]\n",
    "        r += [last + h * f(last[0], last[1])]\n",
    "    return np.array(r).transpose() # возвращает массивы u и v, каждый из N точек"
   ]
  },
  {
   "cell_type": "code",
   "execution_count": 4,
   "metadata": {},
   "outputs": [],
   "source": [
    "def Df(f, x): # центральная производная\n",
    "    return (f(x + delta) - f(x - delta)) / (2 * delta)"
   ]
  },
  {
   "cell_type": "code",
   "execution_count": 5,
   "metadata": {},
   "outputs": [],
   "source": [
    "def J(r): \n",
    "    s1 = [Df(lambda u: du_dt(u, r[1]), r[0]), Df(lambda v: du_dt(r[0], v), r[1])]\n",
    "    s2 = [Df(lambda u: dv_dt(u, r[1]), r[0]), Df(lambda v: dv_dt(r[0], v), r[1])]\n",
    "    return np.array([s1, s2]) # возвращает матрицу частных производных двумерной функции f --^ в точке r"
   ]
  },
  {
   "cell_type": "code",
   "execution_count": 6,
   "metadata": {},
   "outputs": [],
   "source": [
    "def inv(m):\n",
    "    # input : m - двумерная невырожденная матрица\n",
    "    det = m[0][0] * m[1][1] - m[0][1] * m[1][0]\n",
    "    return np.array([[m[1][1], -m[0][1]], [-m[1][0], m[0][0]]]) / det # возвращает обратную к m матрицу"
   ]
  },
  {
   "cell_type": "code",
   "execution_count": 7,
   "metadata": {},
   "outputs": [],
   "source": [
    "def mult(m, r):\n",
    "    # input : m - двумерная матрица\n",
    "    #         r - список двух элементов [u, v] -- вектор\n",
    "    return np.array([m[0][0] * r[0] + m[0][1] * r[1], m[1][0] * r[0] + m[1][1] * r[1]]) \n",
    "    # возвращает произведение матрицы m на вектор r : m.r"
   ]
  },
  {
   "cell_type": "code",
   "execution_count": 8,
   "metadata": {},
   "outputs": [],
   "source": [
    "def implicit_euler(r0, N, h):\n",
    "    # input : r0 = [x_0, y_0] - начальные условия\n",
    "    #         N - кол-во отсчетов по времени\n",
    "    #         h - шаг по времени\n",
    "    r = [r0]\n",
    "    for i in range(N):\n",
    "        last = r[-1]\n",
    "        M = inv(np.eye(2) - h * J(last))\n",
    "        r += [last + h * mult(M, f(last[0], last[1]))]\n",
    "    return np.array(r).transpose() # возвращает массивы u и v, каждый из N точек"
   ]
  },
  {
   "cell_type": "code",
   "execution_count": 9,
   "metadata": {},
   "outputs": [],
   "source": [
    "def coeff(r0):\n",
    "    return mult(inv([[2, 1], [-1, -1]]), r0)# возвращает коэффициенты точного решения, проходящего в момент t = 0 через точку r0"
   ]
  },
  {
   "cell_type": "code",
   "execution_count": 10,
   "metadata": {},
   "outputs": [],
   "source": [
    "def exact(r0, N, h):\n",
    "    # input : r0 = [x_0, y_0] - начальные условия\n",
    "    #         N - кол-во отсчетов по времени\n",
    "    #         h - шаг по времени\n",
    "    alpha, beta = coeff(r0)\n",
    "    t = [h * n for n in range(N)]\n",
    "    r = [alpha * np.exp(-s) * np.array([2, -1]) + beta * np.exp(-1000 * s) * np.array([1, -1]) for s in t]\n",
    "    return np.array(r).transpose() # возвращает массивы u и v аналитического решения, каждый из N точек"
   ]
  },
  {
   "cell_type": "code",
   "execution_count": 20,
   "metadata": {},
   "outputs": [],
   "source": [
    "h = 5.e-3\n",
    "delta = 1.e-3"
   ]
  },
  {
   "cell_type": "markdown",
   "metadata": {},
   "source": [
    "---"
   ]
  },
  {
   "cell_type": "code",
   "execution_count": 25,
   "metadata": {},
   "outputs": [],
   "source": [
    "r0 = np.array([-2.68e-7, 1.33e-7])\n",
    "\n",
    "u_exact, v_exact = exact(r0, 1000, 1.e-5)\n",
    "u_exp, v_exp = explicit_euler(r0, 100, 1.e-3)\n",
    "u_imp, v_imp = implicit_euler(r0, 100, 1.e-3)"
   ]
  },
  {
   "cell_type": "code",
   "execution_count": 26,
   "metadata": {},
   "outputs": [
    {
     "data": {
      "image/png": "[encoded data removed]",
      "text/plain": [
       "<Figure size 504x504 with 1 Axes>"
      ]
     },
     "metadata": {
      "needs_background": "light"
     },
     "output_type": "display_data"
    }
   ],
   "source": [
    "plt.figure(figsize=(7, 7))\n",
    "\n",
    "plt.plot(u_exact, v_exact, '--', label='Exact solution')\n",
    "plt.plot(u_exp, v_exp, '-', label='Explicit Euler')\n",
    "plt.plot(u_imp, v_imp, '-', label='Implicit Euler')\n",
    "plt.legend()\n",
    "plt.grid()\n",
    "plt.xlabel('u')\n",
    "plt.ylabel('v')\n",
    "plt.title('Phase trajectory')\n",
    "plt.show()"
   ]
  },
  {
   "cell_type": "code",
   "execution_count": null,
   "metadata": {},
   "outputs": [],
   "source": []
  }
 ],
 "metadata": {
  "kernelspec": {
   "display_name": "Python 3",
   "language": "python",
   "name": "python3"
  },
  "language_info": {
   "codemirror_mode": {
    "name": "ipython",
    "version": 3
   },
   "file_extension": ".py",
   "mimetype": "text/x-python",
   "name": "python",
   "nbconvert_exporter": "python",
   "pygments_lexer": "ipython3",
   "version": "3.7.4"
  }
 },
 "nbformat": 4,
 "nbformat_minor": 2
}
