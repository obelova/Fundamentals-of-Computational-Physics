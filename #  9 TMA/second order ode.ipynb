{
 "cells": [
  {
   "cell_type": "code",
   "execution_count": 1,
   "metadata": {},
   "outputs": [],
   "source": [
    "import numpy as np\n",
    "from pylab import *\n",
    "from matplotlib import pyplot as plt"
   ]
  },
  {
   "cell_type": "code",
   "execution_count": 2,
   "metadata": {},
   "outputs": [],
   "source": [
    "def TMA(x, N): # tridiagonal matrix algorithm == метод прогонки\n",
    "    h = (b - a) / N\n",
    "    D = [f_a] + [f(s) * h * h for s in x[1:-1]] + [f_b]\n",
    "    A = [0] + [ 1 for i in range(N - 2)] + [0]\n",
    "    B = [1] + [-2 for i in range(N - 2)] + [1]\n",
    "    C = [0] + [ 1 for i in range(N - 2)] + [0]\n",
    "    for i in range(1, N):          # прямой ход метода Гаусса -- избавляемся от коэффициентов под главной диагональю\n",
    "        xi = A[i] / B[i - 1]\n",
    "        B[i] -= xi * C[i - 1]\n",
    "        D[i] -= xi * D[i - 1]\n",
    "    y = np.zeros(N)\n",
    "    y[N - 1] = D[N - 1] / B[N - 1] # обратный ход метода Гаусса\n",
    "    for i in np.arange(N - 2, -1, -1):\n",
    "        y[i] = (D[i] - C[i] * y[i + 1]) / B[i]\n",
    "    return y"
   ]
  },
  {
   "cell_type": "code",
   "execution_count": 3,
   "metadata": {},
   "outputs": [],
   "source": [
    "def error(x, sol : np.array):\n",
    "    ex = np.array([exact(s) for s in x])\n",
    "    error = abs(ex - sol)\n",
    "    return max(error)"
   ]
  },
  {
   "cell_type": "code",
   "execution_count": 4,
   "metadata": {},
   "outputs": [],
   "source": [
    "f_a, f_b = -2.,5.\n",
    "a, b = 0., np.pi\n",
    "N = 10**2"
   ]
  },
  {
   "cell_type": "code",
   "execution_count": 5,
   "metadata": {},
   "outputs": [],
   "source": [
    "f = lambda x: np.sin(x)\n",
    "exact = lambda x: -np.sin(x) + x * (f_b - f_a) / np.pi + f_a"
   ]
  },
  {
   "cell_type": "markdown",
   "metadata": {},
   "source": [
    "---"
   ]
  },
  {
   "cell_type": "code",
   "execution_count": 6,
   "metadata": {},
   "outputs": [],
   "source": [
    "x_ex = np.linspace(a, b, 100) # массив значений для графика точного решения\n",
    "ex = [exact(s) for s in x_ex]"
   ]
  },
  {
   "cell_type": "code",
   "execution_count": 7,
   "metadata": {},
   "outputs": [],
   "source": [
    "x = np.linspace(a, b, N) # решение по методу прогонки\n",
    "tma = TMA(x, N)"
   ]
  },
  {
   "cell_type": "code",
   "execution_count": 8,
   "metadata": {},
   "outputs": [
    {
     "data": {
      "text/plain": [
       "0.019815254649192093"
      ]
     },
     "execution_count": 8,
     "metadata": {},
     "output_type": "execute_result"
    }
   ],
   "source": [
    "error(x, tma)"
   ]
  },
  {
   "cell_type": "code",
   "execution_count": 9,
   "metadata": {},
   "outputs": [
    {
     "data": {
      "image/png": "[encoded data removed]",
      "text/plain": [
       "<Figure size 432x288 with 1 Axes>"
      ]
     },
     "metadata": {
      "needs_background": "light"
     },
     "output_type": "display_data"
    }
   ],
   "source": [
    "plt.figure()\n",
    "\n",
    "plt.plot(x_ex, ex, label='exact solution')\n",
    "plt.plot(x, tma, '-', label='TMA')\n",
    "\n",
    "plt.legend(loc=4)\n",
    "plt.grid()\n",
    "plt.xlabel('x')\n",
    "plt.ylabel('y')\n",
    "plt.title('y\\'\\' = sin(x), y(0) = ' + str(f_a) + ', y(pi) = ' + str(f_b) + ', N = ' + str(N))\n",
    "plt.show()"
   ]
  },
  {
   "cell_type": "code",
   "execution_count": 10,
   "metadata": {},
   "outputs": [],
   "source": [
    "MAX = 17\n",
    "K = 2 ** np.arange(2, MAX)\n",
    "err = []\n",
    "for k in K:\n",
    "    t = np.linspace(a, b, k)\n",
    "    sol = TMA(t, k)\n",
    "    err += [error(t, sol)]"
   ]
  },
  {
   "cell_type": "code",
   "execution_count": 11,
   "metadata": {},
   "outputs": [
    {
     "data": {
      "image/png": "[encoded data removed]",
      "text/plain": [
       "<Figure size 432x288 with 1 Axes>"
      ]
     },
     "metadata": {
      "needs_background": "light"
     },
     "output_type": "display_data"
    }
   ],
   "source": [
    "plt.figure()\n",
    "\n",
    "plt.plot(K, err, '-x')\n",
    "plt.xscale('log', basex=2)\n",
    "plt.yscale('log')\n",
    "plt.grid()\n",
    "plt.xlabel('N')\n",
    "plt.ylabel('error')\n",
    "plt.title('невязка')\n",
    "plt.show()"
   ]
  },
  {
   "cell_type": "code",
   "execution_count": null,
   "metadata": {},
   "outputs": [],
   "source": []
  }
 ],
 "metadata": {
  "kernelspec": {
   "display_name": "Python 3",
   "language": "python",
   "name": "python3"
  },
  "language_info": {
   "codemirror_mode": {
    "name": "ipython",
    "version": 3
   },
   "file_extension": ".py",
   "mimetype": "text/x-python",
   "name": "python",
   "nbconvert_exporter": "python",
   "pygments_lexer": "ipython3",
   "version": "3.7.4"
  }
 },
 "nbformat": 4,
 "nbformat_minor": 2
}
