{
 "cells": [
  {
   "cell_type": "code",
   "execution_count": 1,
   "metadata": {},
   "outputs": [],
   "source": [
    "import numpy as np\n",
    "from matplotlib import pyplot as plt\n",
    "from pylab import *"
   ]
  },
  {
   "cell_type": "code",
   "execution_count": 2,
   "metadata": {},
   "outputs": [],
   "source": [
    "L, E0 = 10, 0.4 # (-L, L) - симметричный отрезок, на краях |psi(+-L)| = 0; E0 - начальное приближение основного уровня\n",
    "N, M = 2000, 20 # N - кол-во интервалов разбиения по x; M - кол-во итераций\n",
    "h = 2 * L / N   # шаг по пространственной сетке\n",
    "r = 1 / h**2    # для удобства обозн. в матрице"
   ]
  },
  {
   "cell_type": "code",
   "execution_count": 3,
   "metadata": {},
   "outputs": [],
   "source": [
    "U = lambda x: x**2 / 2 # ф-ия потенциала"
   ]
  },
  {
   "cell_type": "code",
   "execution_count": 4,
   "metadata": {},
   "outputs": [],
   "source": [
    "x = np.linspace(-L, L, N + 1) # массив x\n",
    "u = U(x)                      # массив значений потенциала в узлах сетки"
   ]
  },
  {
   "cell_type": "code",
   "execution_count": 5,
   "metadata": {},
   "outputs": [],
   "source": [
    "def TMA(e):\n",
    "    # на вход подается вектор e, решается система A.e1 = e, где A:\n",
    "    # первая/последняя строки - гран. условия, имеют только элементы 11 и nn\n",
    "    # остальные строки: ур-ия -r/2 psi_i-1 + (r + U_i) psi_i - r/2 psi_i+1 == e_i\n",
    "    A = np.array([0] + [  -r / 2 for i in range(N - 1)] + [0])\n",
    "    B = np.array(      [u[i] + r for i in range(N + 1)]      )\n",
    "    C = np.array([0] + [  -r / 2 for i in range(N - 1)] + [0])\n",
    "    D = e\n",
    "    for i in range(1, N + 1):\n",
    "        xi = A[i] / B[i - 1]\n",
    "        B[i] -= xi * C[i - 1]\n",
    "        D[i] -= xi * D[i - 1]\n",
    "    W = np.zeros(N + 1)\n",
    "    W[-1] = D[-1] / B[-1]\n",
    "    for i in range(N - 1, -1, -1):\n",
    "        W[i] = (D[i] - C[i] * W[i + 1]) / B[i]\n",
    "    return W"
   ]
  },
  {
   "cell_type": "code",
   "execution_count": 6,
   "metadata": {},
   "outputs": [],
   "source": [
    "def norm(a): # возвращает норму вектора\n",
    "    return sum(a**2) ** 0.5"
   ]
  },
  {
   "cell_type": "code",
   "execution_count": 7,
   "metadata": {},
   "outputs": [],
   "source": [
    "e0 = abs(x)    # np.random.random(N + 1)\n",
    "e0 /= norm(e0) # нормированный начальный вектор"
   ]
  },
  {
   "cell_type": "code",
   "execution_count": 8,
   "metadata": {},
   "outputs": [],
   "source": [
    "def eigen_sol(start):\n",
    "    # на M итерациях решает ур-ие A.e_n+1 = e_n\n",
    "    # выводит основной ур-нь энергии, погрешность (модуль разности с предыдущим вычислением), \n",
    "    # нормированную волновую функцию осн. сост.\n",
    "    eigvec = start\n",
    "    eigval = E0\n",
    "    for i in range(M):\n",
    "        eigvec = TMA(eigvec)\n",
    "        n = norm(eigvec)\n",
    "        last = eigval\n",
    "        eigval = 1 / n\n",
    "        eigvec /= n\n",
    "    return eigval, abs(eigval - last), eigvec"
   ]
  },
  {
   "cell_type": "code",
   "execution_count": 9,
   "metadata": {},
   "outputs": [],
   "source": [
    "E, delta, psi = eigen_sol(e0)"
   ]
  },
  {
   "cell_type": "code",
   "execution_count": 10,
   "metadata": {},
   "outputs": [
    {
     "data": {
      "text/plain": [
       "(0.49999687498046264, 4.440892098500626e-16)"
      ]
     },
     "execution_count": 10,
     "metadata": {},
     "output_type": "execute_result"
    }
   ],
   "source": [
    "E, delta"
   ]
  },
  {
   "cell_type": "code",
   "execution_count": 11,
   "metadata": {},
   "outputs": [],
   "source": [
    "n = norm(np.exp(-x**2 / 2))\n",
    "x0 = np.linspace(-10, 10, 1000)\n",
    "exact = np.exp(-x0**2 / 2) / n  # аналитическое решение (нормированное на численное решение)"
   ]
  },
  {
   "cell_type": "code",
   "execution_count": 14,
   "metadata": {},
   "outputs": [
    {
     "data": {
      "image/png": "[encoded data removed]",
      "text/plain": [
       "<Figure size 720x360 with 1 Axes>"
      ]
     },
     "metadata": {
      "needs_background": "light"
     },
     "output_type": "display_data"
    }
   ],
   "source": [
    "plt.figure(figsize=(10,5))\n",
    "plt.plot(x, psi, label='численное решение')\n",
    "plt.plot(x0, exact, label='нормальное распределение')\n",
    "plt.xlabel('x')\n",
    "plt.ylabel('psi(x)')\n",
    "plt.grid()\n",
    "plt.xlim([-5,5])\n",
    "plt.legend()\n",
    "plt.title('E0='+str(E)+', error='+str(delta))\n",
    "plt.show()"
   ]
  },
  {
   "cell_type": "code",
   "execution_count": null,
   "metadata": {},
   "outputs": [],
   "source": []
  }
 ],
 "metadata": {
  "kernelspec": {
   "display_name": "Python 3",
   "language": "python",
   "name": "python3"
  },
  "language_info": {
   "codemirror_mode": {
    "name": "ipython",
    "version": 3
   },
   "file_extension": ".py",
   "mimetype": "text/x-python",
   "name": "python",
   "nbconvert_exporter": "python",
   "pygments_lexer": "ipython3",
   "version": "3.7.4"
  }
 },
 "nbformat": 4,
 "nbformat_minor": 2
}
